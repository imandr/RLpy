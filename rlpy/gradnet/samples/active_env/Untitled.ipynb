{
 "cells": [
  {
   "cell_type": "code",
   "execution_count": 8,
   "id": "a9b4a255",
   "metadata": {},
   "outputs": [],
   "source": [
    "import math, random\n",
    "\n",
    "def F(x, m, s):\n",
    "    return 1.0/math.sqrt(2*math.pi)/s * math.exp(-(x-m)**2/2/s**2)\n",
    "\n",
    "def dFds(x, m, s):\n",
    "    return F(x,m,s) * ((x-m)**2-s**2) / s**3\n",
    "\n",
    "def dFdm(x, m, s):\n",
    "    return F(x,m,s) * (x-m)/s**2\n",
    "\n",
    "def dFdx(x,m,s):\n",
    "    return F(x,m,s) * (m-x)/s**2\n",
    "\n",
    "def calc_dFds(x, m, s):\n",
    "    s1 = s + 0.001\n",
    "    return (F(x,m,s1)-F(x,m,s))/0.001\n",
    "\n",
    "def calc_dFdm(x, m, s):\n",
    "    m1 = m + 0.001\n",
    "    return (F(x,m1,s)-F(x,m,s))/0.001\n",
    "\n",
    "def calc_dFdx(x, m, s):\n",
    "    x1 = x + 0.001\n",
    "    return (F(x1,m,s)-F(x,m,s))/0.001\n",
    "\n",
    "\n"
   ]
  },
  {
   "cell_type": "code",
   "execution_count": 10,
   "id": "7a946641",
   "metadata": {},
   "outputs": [
    {
     "name": "stdout",
     "output_type": "stream",
     "text": [
      "-1.2410764775659413 0.02806769430699412 0.7072151966067423 0.2860559028053684 0.28630616221202165\n",
      "1.7987454371241425 0.07632154153004372 0.2722953587552651 -6.970228405535384e-08 -6.891867480937891e-08\n",
      "1.8701423664446786 0.029545857953403955 1.0456967699336133 -0.13642427575763663 -0.13634651994753888\n",
      "-1.4926082192969192 0.06127149187521548 0.9682113184070128 0.1884134374465224 0.18850895252797706\n",
      "-1.9374032976765696 0.027999706888367216 0.942353609218423 0.1064534035467331 0.10654415087246738\n",
      "-2.2079001736228854 0.018699136639437886 0.47974393178803265 0.00016902949488042083 0.0001698114398114865\n",
      "-0.407812023160262 0.023818761771411734 0.32740074515346573 2.0576330041793773 2.059388173609067\n",
      "1.9805486182030796 0.06168281739230089 0.6083271981717339 -0.02349467424339171 -0.023439956804379748\n",
      "-1.7865592704835709 0.07352694567110964 0.18683568013097976 3.413198918465987e-20 3.504806141347226e-20\n",
      "0.26645686955063663 0.07281260760256174 0.9301607440178302 -0.09393542881431023 -0.09416740956219583\n"
     ]
    }
   ],
   "source": [
    "for _ in range(10):\n",
    "    x = random.random()*6 - 3\n",
    "    s = random.random() + 0.1\n",
    "    m = random.random()*0.1\n",
    "    \n",
    "    print(x,m,s, dFdx(x,m,s), calc_dFdx(x,m,s))"
   ]
  },
  {
   "cell_type": "code",
   "execution_count": null,
   "id": "b57ae2aa",
   "metadata": {},
   "outputs": [],
   "source": []
  }
 ],
 "metadata": {
  "kernelspec": {
   "display_name": "Python 3",
   "language": "python",
   "name": "python3"
  },
  "language_info": {
   "codemirror_mode": {
    "name": "ipython",
    "version": 3
   },
   "file_extension": ".py",
   "mimetype": "text/x-python",
   "name": "python",
   "nbconvert_exporter": "python",
   "pygments_lexer": "ipython3",
   "version": "3.8.5"
  }
 },
 "nbformat": 4,
 "nbformat_minor": 5
}
