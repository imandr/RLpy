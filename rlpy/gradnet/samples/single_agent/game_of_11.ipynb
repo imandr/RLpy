{
 "cells": [
  {
   "cell_type": "code",
   "execution_count": 44,
   "id": "f687e8d1",
   "metadata": {},
   "outputs": [],
   "source": [
    "import random\n",
    "\n",
    "def play():\n",
    "    deck = list(range(1,7))\n",
    "    cards = []\n",
    "    random.shuffle(deck)\n",
    "    s = 0\n",
    "    done = False\n",
    "    while not done:\n",
    "        card = deck.pop()\n",
    "        cards.append(card)\n",
    "        s += card        \n",
    "        if s > 11:\n",
    "            s = -11\n",
    "            done = True\n",
    "        else:\n",
    "            # decide\n",
    "            sum_outcomes = 0\n",
    "            for c in deck:\n",
    "                if s + c > 11:\n",
    "                    sum_outcomes += -s\n",
    "                else:\n",
    "                    sum_outcomes += c\n",
    "            done = sum_outcomes <= 0\n",
    "    return s, cards\n",
    "\n"
   ]
  },
  {
   "cell_type": "code",
   "execution_count": 45,
   "id": "62d7eb6c",
   "metadata": {},
   "outputs": [
    {
     "name": "stdout",
     "output_type": "stream",
     "text": [
      "7.403127\n"
     ]
    }
   ],
   "source": [
    "total_win = 0\n",
    "ngames = 1000000\n",
    "for t in range(ngames):\n",
    "    win, cards = play()\n",
    "    #print(cards, win)\n",
    "    total_win += win\n",
    "average_win = total_win/ngames\n",
    "print(average_win)\n",
    "    "
   ]
  },
  {
   "cell_type": "code",
   "execution_count": null,
   "id": "93bb3ba9",
   "metadata": {},
   "outputs": [],
   "source": []
  }
 ],
 "metadata": {
  "kernelspec": {
   "display_name": "Python 3",
   "language": "python",
   "name": "python3"
  },
  "language_info": {
   "codemirror_mode": {
    "name": "ipython",
    "version": 3
   },
   "file_extension": ".py",
   "mimetype": "text/x-python",
   "name": "python",
   "nbconvert_exporter": "python",
   "pygments_lexer": "ipython3",
   "version": "3.8.5"
  }
 },
 "nbformat": 4,
 "nbformat_minor": 5
}
